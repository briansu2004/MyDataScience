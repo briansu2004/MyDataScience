{
 "cells": [
  {
   "cell_type": "markdown",
   "metadata": {
    "tags": []
   },
   "source": [
    "# Titanic Data Analysis\n",
    "## Goal of Analysis: Use machine learning algorithms to get best accuracy of predictions for who survived the sinking of the Titanic given the attributes in the dataset. "
   ]
  },
  {
   "cell_type": "code",
   "execution_count": null,
   "metadata": {},
   "outputs": [],
   "source": [
    "import os\n",
    "# os.environ[\"PATH\"] += os.pathsep + 'C:\\Apps\\Graphviz\\bin\\'\n",
    "# os.environ['PATH'] = os.environ['PATH']+';'+os.environ['CONDA_PREFIX']+r\"\\Library\\bin\\graphviz\"\n",
    "os.environ['PATH'] = os.environ['PATH'] + r\";C:\\Apps\\Graphviz\\bin\""
   ]
  },
  {
   "cell_type": "code",
   "execution_count": null,
   "metadata": {},
   "outputs": [],
   "source": [
    "import sys\n",
    "!{sys.executable} -m pip install pandas-profiling pydotplus keras tensorflow graphviz"
   ]
  },
  {
   "cell_type": "code",
   "execution_count": null,
   "metadata": {
    "tags": []
   },
   "outputs": [],
   "source": [
    "#Imports \n",
    "import pandas as pd\n",
    "import numpy as np\n",
    "import pandas_profiling\n",
    "from sklearn.model_selection import train_test_split \n",
    "from sklearn import preprocessing\n",
    "from sklearn.naive_bayes import GaussianNB\n",
    "from sklearn.metrics import accuracy_score\n",
    "from sklearn.tree import DecisionTreeClassifier \n",
    "from sklearn.metrics import accuracy_score\n",
    "from sklearn.metrics import confusion_matrix\n",
    "from sklearn import metrics\n",
    "import random\n",
    "import matplotlib.pyplot as plt\n",
    "from IPython.display import Image  \n",
    "from sklearn.tree import export_graphviz\n",
    "import pydotplus\n",
    "from sklearn import preprocessing\n",
    "from io import StringIO\n",
    "from sklearn.ensemble import RandomForestClassifier\n",
    "from sklearn.preprocessing import StandardScaler\n",
    "from sklearn.model_selection import GridSearchCV\n",
    "from keras.wrappers.scikit_learn import KerasClassifier\n",
    "from keras.models import Sequential\n",
    "from keras.layers import Dense, Activation, Dropout\n",
    "from numpy.random import seed\n",
    "import graphviz"
   ]
  },
  {
   "cell_type": "markdown",
   "metadata": {},
   "source": [
    "# Data Analysis"
   ]
  },
  {
   "cell_type": "code",
   "execution_count": null,
   "metadata": {
    "tags": []
   },
   "outputs": [],
   "source": [
    "titanic_df = pd.read_csv(\"titanic_data.csv\")\n",
    "titanic_df.info()"
   ]
  },
  {
   "cell_type": "markdown",
   "metadata": {},
   "source": [
    "## Data Exploration"
   ]
  },
  {
   "cell_type": "code",
   "execution_count": null,
   "metadata": {},
   "outputs": [],
   "source": [
    "titanic_df.describe()"
   ]
  },
  {
   "cell_type": "code",
   "execution_count": null,
   "metadata": {},
   "outputs": [],
   "source": [
    "# Search for overall trends in the dataset\n",
    "pandas_profiling.ProfileReport(titanic_df)"
   ]
  },
  {
   "cell_type": "markdown",
   "metadata": {},
   "source": [
    "## Data Cleaning"
   ]
  },
  {
   "cell_type": "code",
   "execution_count": null,
   "metadata": {},
   "outputs": [],
   "source": [
    "#Age is skewed and has a significant number of missing values so best to replace missing values with median of data\n",
    "age_median = titanic_df['Age'].median(skipna=True)\n",
    "titanic_df['Age'].fillna(age_median, inplace=True)"
   ]
  },
  {
   "cell_type": "code",
   "execution_count": null,
   "metadata": {},
   "outputs": [],
   "source": [
    "#Cabin has too many missing values and will be completely dropped from the dataframe\n",
    "titanic_df.drop('Cabin', axis=1, inplace=True)"
   ]
  },
  {
   "cell_type": "code",
   "execution_count": null,
   "metadata": {},
   "outputs": [],
   "source": [
    "#Embarked only has 2 missing values and can be replaced with the most common which is S\n",
    "titanic_df['Embarked'].fillna(\"S\", inplace=True)"
   ]
  },
  {
   "cell_type": "code",
   "execution_count": null,
   "metadata": {},
   "outputs": [],
   "source": [
    "#Fare has one missing value and can be replaced with the median because it is highly skewed\n",
    "fare_median = titanic_df['Fare'].median(skipna=True)\n",
    "titanic_df['Fare'].fillna(fare_median,inplace=True)"
   ]
  },
  {
   "cell_type": "markdown",
   "metadata": {},
   "source": [
    "## Feature Engineering"
   ]
  },
  {
   "cell_type": "code",
   "execution_count": null,
   "metadata": {},
   "outputs": [],
   "source": [
    "#SibSp - Number of siblings/spouses aboard\n",
    "#Parch - Number of parents/children aboard\n",
    "#These two variables overlap for every passenger that has this data so I am creating a variable that just detects \n",
    "#whether someone is traveling alone or not to account for multicollinearity\n",
    "titanic_df['TravelGroup']=titanic_df[\"SibSp\"]+titanic_df[\"Parch\"]\n",
    "titanic_df['TravelAlone']=np.where(titanic_df['TravelGroup']>0, 0, 1) \n",
    "titanic_df.head()"
   ]
  },
  {
   "cell_type": "code",
   "execution_count": null,
   "metadata": {},
   "outputs": [],
   "source": [
    "#Does total size of group change the probability of surviving? \n",
    "#Initial thought: People who want to check up on the safety of more people take more time looking for them \n",
    "#and die as a result of not trying to escape\n",
    "titanic_df['TravelTotal'] = titanic_df['TravelGroup'] + 1"
   ]
  },
  {
   "cell_type": "code",
   "execution_count": null,
   "metadata": {},
   "outputs": [],
   "source": [
    "#Drop unnecessary variables   - thanks for the help Jeffrey!\n",
    "titanic_df.drop('SibSp', axis=1, inplace=True)\n",
    "titanic_df.drop('Parch', axis=1, inplace=True)\n",
    "titanic_df.drop('TravelGroup', axis=1, inplace=True)\n",
    "titanic_df.drop('Ticket', axis=1, inplace=True)\n",
    "titanic_df.drop('Name', axis=1, inplace=True)"
   ]
  },
  {
   "cell_type": "code",
   "execution_count": null,
   "metadata": {},
   "outputs": [],
   "source": [
    "#Hot Encode PClass, Sex, Embarked\n",
    "le = preprocessing.LabelEncoder()\n",
    "pclass_cat = le.fit_transform(titanic_df.Pclass)\n",
    "sex_cat = le.fit_transform(titanic_df.Sex)\n",
    "embarked_cat = le.fit_transform(titanic_df.Embarked)\n",
    "\n",
    "#Initialize the encoded categorical columns\n",
    "titanic_df['pclass_cat'] = pclass_cat\n",
    "titanic_df['sex_cat'] = sex_cat\n",
    "titanic_df['embarked_cat'] = embarked_cat\n",
    "\n",
    "#Drop old categorical fields from dataframe and reindex\n",
    "dummy_fields = ['Pclass','Sex','Embarked']\n",
    "data = titanic_df.drop(dummy_fields, axis = 1)\n",
    "data = titanic_df.reindex(['pclass_cat','sex_cat','Age','Fare','embarked_cat','TravelAlone', 'TravelTotal','Survived'],axis=1)"
   ]
  },
  {
   "cell_type": "code",
   "execution_count": null,
   "metadata": {},
   "outputs": [],
   "source": [
    "data"
   ]
  },
  {
   "cell_type": "code",
   "execution_count": null,
   "metadata": {},
   "outputs": [],
   "source": [
    "#Normalize the continuous variables\n",
    "continuous = ['Age', 'Fare', 'TravelTotal']\n",
    "\n",
    "scaler = StandardScaler()\n",
    "\n",
    "for var in continuous:\n",
    "    data[var] = data[var].astype('float64')\n",
    "    data[var] = scaler.fit_transform(data[var].values.reshape(-1, 1))"
   ]
  },
  {
   "cell_type": "code",
   "execution_count": null,
   "metadata": {},
   "outputs": [],
   "source": [
    "data"
   ]
  },
  {
   "cell_type": "code",
   "execution_count": null,
   "metadata": {},
   "outputs": [],
   "source": [
    "#Make sure data is clean/check for null\n",
    "data[data.isnull().any(axis=1)].head()"
   ]
  },
  {
   "cell_type": "markdown",
   "metadata": {},
   "source": [
    "## Models"
   ]
  },
  {
   "cell_type": "markdown",
   "metadata": {},
   "source": [
    "### Test Train Split"
   ]
  },
  {
   "cell_type": "code",
   "execution_count": null,
   "metadata": {},
   "outputs": [],
   "source": [
    "#Split inputs and output\n",
    "X = data.iloc[:, 0:7] \n",
    "Y = data.iloc[:, 7]"
   ]
  },
  {
   "cell_type": "code",
   "execution_count": null,
   "metadata": {},
   "outputs": [],
   "source": [
    "#Test/Train Split\n",
    "X_train, X_test, y_train, y_test = train_test_split(X, Y, test_size=0.2)"
   ]
  },
  {
   "cell_type": "markdown",
   "metadata": {},
   "source": [
    "### Naive Bayes Classifier"
   ]
  },
  {
   "cell_type": "code",
   "execution_count": null,
   "metadata": {},
   "outputs": [],
   "source": [
    "#NB - All columns\n",
    "#Initialize + fit model\n",
    "gnb = GaussianNB().fit(X_train, y_train)\n",
    "\n",
    "#Predictions\n",
    "y_pred = gnb.predict(X_test)\n",
    "\n",
    "#Accuracy Score\n",
    "NB_all_accuracy = accuracy_score(y_test,y_pred)\n",
    "print('Naive Bayes Model Accuracy with all attributes: {0:.2f}'.format(NB_all_accuracy))"
   ]
  },
  {
   "cell_type": "markdown",
   "metadata": {},
   "source": [
    "### Decision Tree "
   ]
  },
  {
   "cell_type": "code",
   "execution_count": null,
   "metadata": {},
   "outputs": [],
   "source": [
    "#DT1 - All attributes\n",
    "#Initalize + fit model\n",
    "tree = DecisionTreeClassifier(criterion = 'entropy', min_samples_split = 2, random_state=5).fit(X_train, y_train)\n",
    "\n",
    "#Predictions\n",
    "y_pred = tree.predict(X_test)\n",
    "\n",
    "#Accuracy Score\n",
    "tree_all_accuracy = accuracy_score(y_test, y_pred)\n",
    "print('Decision Tree Accuracy with all attributes: {0:.2f}'.format(tree_all_accuracy))"
   ]
  },
  {
   "cell_type": "code",
   "execution_count": null,
   "metadata": {},
   "outputs": [],
   "source": [
    "#Tree visualization function\n",
    "def visualize_tree(tree_data, names):\n",
    "    dot_data = StringIO()\n",
    "    export_graphviz(tree_data,out_file=dot_data,\n",
    "                         feature_names=names,\n",
    "                         filled=True,rounded=True, \n",
    "                         special_characters=True)\n",
    "    graph = pydotplus.graph_from_dot_data(dot_data.getvalue())\n",
    "    return Image(graph.create_png())"
   ]
  },
  {
   "cell_type": "code",
   "execution_count": null,
   "metadata": {
    "scrolled": true
   },
   "outputs": [],
   "source": [
    "#DT1 Graph\n",
    "names = ['pclass_cat','sex_cat','Age','Fare','embarked_cat','TravelAlone','TravelTotal']\n",
    "visualize_tree(tree,names)"
   ]
  },
  {
   "cell_type": "code",
   "execution_count": null,
   "metadata": {},
   "outputs": [],
   "source": [
    "print(tree.feature_importances_)"
   ]
  },
  {
   "cell_type": "code",
   "execution_count": null,
   "metadata": {},
   "outputs": [],
   "source": [
    "high_importance = ['sex_cat','Age','Fare']\n",
    "X_train2 = X_train[high_importance]\n",
    "X_test2 = X_test[high_importance]"
   ]
  },
  {
   "cell_type": "code",
   "execution_count": null,
   "metadata": {},
   "outputs": [],
   "source": [
    "#DT2 - Top 3 features only\n",
    "#Initialize + fit model\n",
    "tree2 = DecisionTreeClassifier(criterion = 'gini', min_samples_split = 2, random_state=5).fit(X_train2, y_train)\n",
    "\n",
    "#Predictions \n",
    "y_pred2 = tree2.predict(X_test2)\n",
    "\n",
    "#Accuracy Score\n",
    "tree_imp_accuracy = accuracy_score(y_test, y_pred2)\n",
    "print('Decision Tree Accuracy with high importance attributes: {0:.2f}'.format(tree_imp_accuracy))"
   ]
  },
  {
   "cell_type": "code",
   "execution_count": null,
   "metadata": {},
   "outputs": [],
   "source": [
    "#DT2 Graph\n",
    "visualize_tree(tree2,high_importance)"
   ]
  },
  {
   "cell_type": "markdown",
   "metadata": {},
   "source": [
    "### Random Forest"
   ]
  },
  {
   "cell_type": "code",
   "execution_count": null,
   "metadata": {},
   "outputs": [],
   "source": [
    "#RF1 - All attributes\n",
    "#Initalize + fit model\n",
    "clf = RandomForestClassifier(n_jobs=2, random_state=0).fit(X_train, y_train)\n",
    "\n",
    "#Predictions\n",
    "y_pred = clf.predict(X_test)\n",
    "\n",
    "#Accuracy Score\n",
    "RF_all_accuracy = accuracy_score(y_test,y_pred)\n",
    "print('Random Forest Accuracy with all attributes: {0:.2f}'.format(RF_all_accuracy))"
   ]
  },
  {
   "cell_type": "code",
   "execution_count": null,
   "metadata": {},
   "outputs": [],
   "source": [
    "print(clf.feature_importances_)"
   ]
  },
  {
   "cell_type": "code",
   "execution_count": null,
   "metadata": {},
   "outputs": [],
   "source": [
    "#RF2 - Top 3 features only\n",
    "#Initialize + fit model\n",
    "clf2 = RandomForestClassifier(n_jobs=2, random_state=0).fit(X_train2, y_train)\n",
    "\n",
    "#Predictions\n",
    "y_pred2 = clf2.predict(X_test2)\n",
    "\n",
    "#Accuracy Score\n",
    "RF_imp_accuracy = accuracy_score(y_test,y_pred2)\n",
    "print('Random Forest Accuracy with high importance attributes: {0:.2f}'.format(RF_imp_accuracy))"
   ]
  },
  {
   "cell_type": "markdown",
   "metadata": {},
   "source": [
    "### Neural Network"
   ]
  },
  {
   "cell_type": "code",
   "execution_count": null,
   "metadata": {},
   "outputs": [],
   "source": [
    "def create_model(lyrs=[8], act='linear', opt='Adam', dr=0.0):\n",
    "    # set random seed for reproducibility\n",
    "    seed(42)\n",
    "\n",
    "    model = Sequential()\n",
    "    # create first hidden layer\n",
    "    model.add(Dense(lyrs[0], input_dim=X_train.shape[1], activation=act))\n",
    "    # create additional hidden layers\n",
    "    for i in range(1,len(lyrs)):\n",
    "        model.add(Dense(lyrs[i], activation=act))\n",
    "    # add dropout, default is none\n",
    "    model.add(Dropout(dr))\n",
    "    # create output layer\n",
    "    model.add(Dense(1, activation='sigmoid'))  # output layer\n",
    "    model.compile(loss='binary_crossentropy', optimizer=opt, metrics=['accuracy'])\n",
    "    return model"
   ]
  },
  {
   "cell_type": "code",
   "execution_count": null,
   "metadata": {},
   "outputs": [],
   "source": [
    "#Initialize and create model\n",
    "model = create_model()\n",
    "print(model.summary())"
   ]
  },
  {
   "cell_type": "code",
   "execution_count": null,
   "metadata": {},
   "outputs": [],
   "source": [
    "#Train neural\n",
    "nn = model.fit(X_train, y_train, epochs=100, validation_split = 0.2, batch_size=32, verbose=0)\n",
    "nn_accuracy = np.mean(nn.history['val_accuracy'])"
   ]
  },
  {
   "cell_type": "code",
   "execution_count": null,
   "metadata": {},
   "outputs": [],
   "source": [
    "#Summarize history of accuracy\n",
    "plt.plot(nn.history['accuracy'])\n",
    "plt.plot(nn.history['val_accuracy'])\n",
    "plt.title('model accuracy')\n",
    "plt.ylabel('accuracy')\n",
    "plt.xlabel('epoch')\n",
    "plt.legend(['train', 'validation'], loc='upper left')\n",
    "plt.show()"
   ]
  },
  {
   "cell_type": "markdown",
   "metadata": {},
   "source": [
    "## Compare Accuracy Scores\n"
   ]
  },
  {
   "cell_type": "code",
   "execution_count": null,
   "metadata": {},
   "outputs": [],
   "source": [
    "#All Accuracies\n",
    "print('NB accuracy: {0:.2f}'.format(NB_all_accuracy))\n",
    "\n",
    "print(\"Decision Tree:\")\n",
    "print('All attributes: {0:.2f}'.format(tree_all_accuracy))\n",
    "print('High importance attributes: {0:.2f}'.format(tree_imp_accuracy))\n",
    "\n",
    "print(\"Random Forest:\")\n",
    "print('All attributes: {0:.2f}'.format(RF_all_accuracy))\n",
    "print('High importance attributes: {0:.2f}'.format(RF_imp_accuracy))\n",
    "\n",
    "print(\"Neural Network: \")\n",
    "print('All attributes: {0:.2f}'.format(nn_accuracy))"
   ]
  },
  {
   "cell_type": "code",
   "execution_count": null,
   "metadata": {},
   "outputs": [],
   "source": [
    "print(1)"
   ]
  }
 ],
 "metadata": {
  "interpreter": {
   "hash": "7118164a812f03e7abaca324470c207028af9f5eb97c564b01cda75823eeb50c"
  },
  "kernelspec": {
   "display_name": "Python 3 (ipykernel)",
   "language": "python",
   "name": "python3"
  },
  "language_info": {
   "codemirror_mode": {
    "name": "ipython",
    "version": 3
   },
   "file_extension": ".py",
   "mimetype": "text/x-python",
   "name": "python",
   "nbconvert_exporter": "python",
   "pygments_lexer": "ipython3",
   "version": "3.9.13"
  },
  "metadata": {
   "interpreter": {
    "hash": "7118164a812f03e7abaca324470c207028af9f5eb97c564b01cda75823eeb50c"
   }
  }
 },
 "nbformat": 4,
 "nbformat_minor": 4
}
